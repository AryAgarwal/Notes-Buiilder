{
 "cells": [
  {
   "cell_type": "code",
   "execution_count": 1,
   "id": "a30341fc",
   "metadata": {},
   "outputs": [],
   "source": [
    "import openai"
   ]
  },
  {
   "cell_type": "code",
   "execution_count": 2,
   "id": "dd738a92",
   "metadata": {},
   "outputs": [],
   "source": [
    "API_KEY='sk-'\n",
    "model_id='whisper-1'"
   ]
  },
  {
   "cell_type": "code",
   "execution_count": 18,
   "id": "9f19404b",
   "metadata": {},
   "outputs": [],
   "source": [
    "media_file_path='/Users/aryanagarwal/Desktop/whisper/New Recording 2.m4a'\n",
    "media_file=open(media_file_path,'rb')"
   ]
  },
  {
   "cell_type": "code",
   "execution_count": 19,
   "id": "6d40fcf9",
   "metadata": {},
   "outputs": [],
   "source": [
    "response=openai.Audio.translate(\n",
    "    api_key=API_KEY,\n",
    "    model=model_id,\n",
    "    file=media_file,\n",
    "    #response_format='srt'\n",
    ")\n",
    "response=response[\"text\"]"
   ]
  },
  {
   "cell_type": "code",
   "execution_count": 20,
   "id": "3dd44e2e",
   "metadata": {},
   "outputs": [
    {
     "name": "stdout",
     "output_type": "stream",
     "text": [
      "I need to go to the supermarket, I need to buy apples, I need to get bananas, oranges or to get some vegetables, mushrooms. I also have to go to the dentist and later I have to go to my dance class.\n"
     ]
    }
   ],
   "source": [
    "print(response)"
   ]
  },
  {
   "cell_type": "code",
   "execution_count": 21,
   "id": "b5d82535",
   "metadata": {},
   "outputs": [],
   "source": [
    "openai.api_key='sk-'\n",
    "messages = [\n",
    "    {\"role\": \"system\", \"content\": \"You are a kind helpful assistant.\"},\n",
    "]"
   ]
  },
  {
   "cell_type": "code",
   "execution_count": 7,
   "id": "841cb516",
   "metadata": {},
   "outputs": [
    {
     "name": "stdout",
     "output_type": "stream",
     "text": [
      "User : write a 2 line poem\n",
      "ChatGPT: In darkness, find light,\n",
      "In stormy seas, peace ignites.\n"
     ]
    }
   ],
   "source": [
    "\n",
    "message = input(\"User : \")\n",
    "if message:\n",
    "    messages.append(\n",
    "        {\"role\": \"user\", \"content\": message},\n",
    "    )\n",
    "    chat = openai.ChatCompletion.create(\n",
    "        model=\"gpt-3.5-turbo\", messages=messages\n",
    "    )\n",
    "    \n",
    "reply = chat.choices[0].message.content\n",
    "print(f\"ChatGPT: {reply}\")\n",
    "messages.append({\"role\": \"assistant\", \"content\": reply})"
   ]
  },
  {
   "cell_type": "code",
   "execution_count": null,
   "id": "f8ff36f2",
   "metadata": {},
   "outputs": [],
   "source": []
  },
  {
   "cell_type": "code",
   "execution_count": 25,
   "id": "1f77dc66",
   "metadata": {},
   "outputs": [
    {
     "name": "stdout",
     "output_type": "stream",
     "text": [
      "I need to go to the supermarket, I need to buy apples, I need to get bananas, oranges or to get some vegetables, mushrooms. I also have to go to the dentist and later I have to go to my dance class.\n"
     ]
    }
   ],
   "source": [
    "print(f\"{response}\")"
   ]
  },
  {
   "cell_type": "code",
   "execution_count": null,
   "id": "90abc1b5",
   "metadata": {},
   "outputs": [],
   "source": []
  },
  {
   "cell_type": "code",
   "execution_count": 24,
   "id": "807cc577",
   "metadata": {},
   "outputs": [
    {
     "name": "stdout",
     "output_type": "stream",
     "text": [
      "I need you to make a structured paragraph with bullet points and a heading for this message:I need to go to the supermarket, I need to buy apples, I need to get bananas, oranges or to get some vegetables, mushrooms. I also have to go to the dentist and later I have to go to my dance class.\n"
     ]
    }
   ],
   "source": [
    "m=\"I need you to make a structured paragraph with bullet points and a heading for this message:\"f\"{response}\"\n",
    "print(m)"
   ]
  },
  {
   "cell_type": "code",
   "execution_count": 23,
   "id": "9594154c",
   "metadata": {},
   "outputs": [
    {
     "name": "stdout",
     "output_type": "stream",
     "text": [
      "ChatGPT: Heading: Errands and Appointments for the Day\n",
      "\n",
      "- Supermarket \n",
      "  - Buy apples \n",
      "  - Get bananas \n",
      "  - Pick up oranges or vegetables (e.g., mushrooms)\n",
      "\n",
      "- Dentist Appointment \n",
      "\n",
      "- Dance Class\n"
     ]
    }
   ],
   "source": [
    "message = m\n",
    "if message:\n",
    "    messages.append(\n",
    "        {\"role\": \"user\", \"content\": message},\n",
    "    )\n",
    "    chat = openai.ChatCompletion.create(\n",
    "        model=\"gpt-3.5-turbo\", messages=messages\n",
    "    )\n",
    "    \n",
    "reply = chat.choices[0].message.content\n",
    "print(f\"ChatGPT: {reply}\")\n",
    "messages.append({\"role\": \"assistant\", \"content\": reply})"
   ]
  },
  {
   "cell_type": "code",
   "execution_count": null,
   "id": "26bef7b7",
   "metadata": {},
   "outputs": [],
   "source": []
  }
 ],
 "metadata": {
  "kernelspec": {
   "display_name": "Python 3 (ipykernel)",
   "language": "python",
   "name": "python3"
  },
  "language_info": {
   "codemirror_mode": {
    "name": "ipython",
    "version": 3
   },
   "file_extension": ".py",
   "mimetype": "text/x-python",
   "name": "python",
   "nbconvert_exporter": "python",
   "pygments_lexer": "ipython3",
   "version": "3.9.13"
  }
 },
 "nbformat": 4,
 "nbformat_minor": 5
}
